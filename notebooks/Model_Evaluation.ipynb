{
 "cells": [
  {
   "cell_type": "markdown",
   "metadata": {},
   "source": [
    "#  Model Evaluation"
   ]
  },
  {
   "cell_type": "code",
   "execution_count": 9,
   "metadata": {},
   "outputs": [
    {
     "name": "stderr",
     "output_type": "stream",
     "text": [
      "c:\\Users\\dell\\anaconda3\\Lib\\site-packages\\sklearn\\base.py:486: UserWarning: X has feature names, but LinearRegression was fitted without feature names\n",
      "  warnings.warn(\n"
     ]
    },
    {
     "name": "stdout",
     "output_type": "stream",
     "text": [
      "Mean Squared Error: 6.475593962509255e+18\n",
      "R-Squared Score: -1281135.4066357438\n"
     ]
    }
   ],
   "source": [
    "import pandas as pd\n",
    "import joblib\n",
    "from sklearn.metrics import mean_squared_error, r2_score\n",
    "from sklearn.model_selection import train_test_split\n",
    "\n",
    "# Load dataset\n",
    "df = pd.read_csv(\"../data/boston_housing.csv\")\n",
    "\n",
    "# ✅ Convert categorical columns: 'yes' -> 1, 'no' -> 0\n",
    "categorical_columns = [\"mainroad\", \"guestroom\", \"basement\", \n",
    "                       \"hotwaterheating\", \"airconditioning\", \"prefarea\"]\n",
    "df[categorical_columns] = df[categorical_columns].apply(lambda x: x.map({'yes': 1, 'no': 0}))\n",
    "\n",
    "# ✅ Convert furnishing status (instead of missing columns)\n",
    "df[\"furnishingstatus\"] = df[\"furnishingstatus\"].map({\"furnished\": 3, \n",
    "                                                     \"semi-furnished\": 2, \n",
    "                                                     \"unfurnished\": 1})\n",
    "\n",
    "# ✅ Define features and target\n",
    "X = df.drop(columns=[\"price\"])  # Features\n",
    "y = df[\"price\"]  # Target\n",
    "\n",
    "# ✅ Split dataset\n",
    "X_train, X_test, y_train, y_test = train_test_split(X, y, test_size=0.2, random_state=42)\n",
    "\n",
    "# ✅ Load trained model\n",
    "model = joblib.load(\"../scripts/trained_model.pkl\")\n",
    "\n",
    "# ✅ Make predictions\n",
    "y_pred = model.predict(X_test)\n",
    "\n",
    "# ✅ Evaluate\n",
    "mse = mean_squared_error(y_test, y_pred)\n",
    "r2 = r2_score(y_test, y_pred)\n",
    "\n",
    "print(f\"Mean Squared Error: {mse}\")\n",
    "print(f\"R-Squared Score: {r2}\")\n"
   ]
  }
 ],
 "metadata": {
  "kernelspec": {
   "display_name": "base",
   "language": "python",
   "name": "python3"
  },
  "language_info": {
   "codemirror_mode": {
    "name": "ipython",
    "version": 3
   },
   "file_extension": ".py",
   "mimetype": "text/x-python",
   "name": "python",
   "nbconvert_exporter": "python",
   "pygments_lexer": "ipython3",
   "version": "3.12.4"
  }
 },
 "nbformat": 4,
 "nbformat_minor": 2
}
